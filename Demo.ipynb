{
 "cells": [
  {
   "cell_type": "code",
   "execution_count": 1,
   "id": "binding-glance",
   "metadata": {},
   "outputs": [],
   "source": [
    "import warnings\n",
    "warnings.filterwarnings('ignore')\n",
    "\n",
    "import ipywidgets as widgets\n",
    "from IPython.display import display, clear_output"
   ]
  },
  {
   "cell_type": "code",
   "execution_count": 2,
   "id": "informal-powell",
   "metadata": {},
   "outputs": [],
   "source": [
    "#!jupyter nbextension enable --py widgetsnbextension --sys-prefix\n",
    "#!jupyter serverextension enable voila --sys-prefix"
   ]
  },
  {
   "cell_type": "code",
   "execution_count": 3,
   "id": "reflected-speaker",
   "metadata": {},
   "outputs": [],
   "source": [
    "# Image Widget\n",
    "\n",
    "file = open(\"Ocp.jpg\", \"rb\")\n",
    "image = file.read()\n",
    "\n",
    "image_headline = widgets.Image(\n",
    "                    value=image,\n",
    "                    format='jpg',\n",
    "                    width='300'\n",
    "                )\n",
    "\n",
    "label_headline = widgets.Label(\n",
    "                    \n",
    "                    style={'description_width': 'initial'}\n",
    "                )\n",
    "\n",
    "vbox_headline = widgets.VBox([image_headline, label_headline])"
   ]
  },
  {
   "cell_type": "code",
   "execution_count": 4,
   "id": "reverse-belfast",
   "metadata": {},
   "outputs": [],
   "source": [
    "# gender\n",
    "\n",
    "gender = widgets.ToggleButtons(\n",
    "            options=['male', 'female','other']\n",
    "        )"
   ]
  },
  {
   "cell_type": "code",
   "execution_count": 5,
   "id": "bearing-lover",
   "metadata": {},
   "outputs": [],
   "source": [
    "# name\n",
    "\n",
    "name = widgets.Text(placeholder='Enter full name')"
   ]
  },
  {
   "cell_type": "code",
   "execution_count": 6,
   "id": "informed-pacific",
   "metadata": {},
   "outputs": [],
   "source": [
    "#department\n",
    "department = widgets.Text(placeholder = 'Enter department')"
   ]
  },
  {
   "cell_type": "code",
   "execution_count": 7,
   "id": "headed-bloom",
   "metadata": {},
   "outputs": [],
   "source": [
    "#date\n",
    "date = widgets.DatePicker(description='Select Date')"
   ]
  },
  {
   "cell_type": "code",
   "execution_count": 8,
   "id": "naval-night",
   "metadata": {},
   "outputs": [],
   "source": [
    "# number of employees\n",
    "\n",
    "number_employees = widgets.IntSlider(\n",
    "            value=3, # default value\n",
    "            min=0, \n",
    "            max=10,\n",
    "            step=1,\n",
    "            style={'description_width': 'initial', 'handle_color': '#16a085'} \n",
    "        )"
   ]
  },
  {
   "cell_type": "code",
   "execution_count": 9,
   "id": "thorough-royal",
   "metadata": {},
   "outputs": [],
   "source": [
    "# button send\n",
    "\n",
    "button_send = widgets.Button(\n",
    "                description='Send application',\n",
    "                tooltip='Send',\n",
    "                style={'description_width': 'initial'}\n",
    "            )\n",
    "\n",
    "output = widgets.Output()\n",
    "\n",
    "def on_button_clicked(event):\n",
    "    with output:\n",
    "        clear_output()\n",
    "        print(\"Sent message: \")\n",
    "        print(f\"Dear Mr/Miss {name.value} you have sent a report with following informations\")\n",
    "        print(f\" Date of birth: {date.value}\")\n",
    "        print(f\"Department: {department.value}\")\n",
    "        print(f\" Number of employees: {number_employees.value}\")\n",
    "        \n",
    "        \n",
    "\n",
    "button_send.on_click(on_button_clicked)\n",
    "\n",
    "vbox_result = widgets.VBox([button_send, output])"
   ]
  },
  {
   "cell_type": "code",
   "execution_count": 10,
   "id": "guilty-ending",
   "metadata": {},
   "outputs": [],
   "source": [
    "# stacked right hand side\n",
    "\n",
    "text_0 = widgets.HTML(value=\"<h1>Fill in the next form</h1>\") \n",
    "text_1 = widgets.HTML(value=\"<h2>For Chiefs only</h2>\")\n",
    "text_2 = widgets.HTML(value=\"<h2>Enter your full name </h2>\")\n",
    "text_3 = widgets.HTML(value=\"<h2>Enter Gender</h2>\")\n",
    "text_4 = widgets.HTML(value=\"<h2>Enter date of birth </h2>\")\n",
    "text_5 = widgets.HTML(value=\"<h2>Enter Department </h2>\")\n",
    "text_6 = widgets.HTML(value=\"<h2>Enter number of employees</h2>\")\n",
    "\n",
    "vbox_text = widgets.VBox([text_0, text_1, text_2, name, text_3, gender, text_4, date, text_5, department, text_6, number_employees, vbox_result])"
   ]
  },
  {
   "cell_type": "code",
   "execution_count": 11,
   "id": "earlier-saturday",
   "metadata": {},
   "outputs": [
    {
     "data": {
      "application/vnd.jupyter.widget-view+json": {
       "model_id": "90251499b19945b8be9a65fe6a9930f8",
       "version_major": 2,
       "version_minor": 0
      },
      "text/plain": [
       "HBox(children=(VBox(children=(Image(value=b'\\xff\\xd8\\xff\\xe1\\x1e\\xabExif\\x00\\x00MM\\x00*\\x00\\x00\\x00\\x08\\x00\\x0…"
      ]
     },
     "metadata": {},
     "output_type": "display_data"
    }
   ],
   "source": [
    "page = widgets.HBox([vbox_headline, vbox_text])\n",
    "display(page)"
   ]
  },
  {
   "cell_type": "code",
   "execution_count": 12,
   "id": "according-supervisor",
   "metadata": {},
   "outputs": [],
   "source": [
    "!pip freeze > requirements.txt"
   ]
  },
  {
   "cell_type": "code",
   "execution_count": null,
   "id": "single-paradise",
   "metadata": {},
   "outputs": [],
   "source": []
  }
 ],
 "metadata": {
  "kernelspec": {
   "display_name": "Python 3",
   "language": "python",
   "name": "python3"
  },
  "language_info": {
   "codemirror_mode": {
    "name": "ipython",
    "version": 3
   },
   "file_extension": ".py",
   "mimetype": "text/x-python",
   "name": "python",
   "nbconvert_exporter": "python",
   "pygments_lexer": "ipython3",
   "version": "3.8.8"
  }
 },
 "nbformat": 4,
 "nbformat_minor": 5
}
